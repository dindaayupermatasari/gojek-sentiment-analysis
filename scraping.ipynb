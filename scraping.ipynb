{
  "nbformat": 4,
  "nbformat_minor": 0,
  "metadata": {
    "colab": {
      "provenance": []
    },
    "kernelspec": {
      "name": "python3",
      "display_name": "Python 3"
    },
    "language_info": {
      "name": "python"
    }
  },
  "cells": [
    {
      "cell_type": "code",
      "source": [
        "!pip install google-play-scraper"
      ],
      "metadata": {
        "colab": {
          "base_uri": "https://localhost:8080/"
        },
        "id": "CluiLfwMEffI",
        "outputId": "4c847031-ec7b-413b-8dff-cc154589e32f"
      },
      "execution_count": 1,
      "outputs": [
        {
          "output_type": "stream",
          "name": "stdout",
          "text": [
            "Collecting google-play-scraper\n",
            "  Downloading google_play_scraper-1.2.7-py3-none-any.whl.metadata (50 kB)\n",
            "\u001b[?25l     \u001b[90m━━━━━━━━━━━━━━━━━━━━━━━━━━━━━━━━━━━━━━━━\u001b[0m \u001b[32m0.0/50.2 kB\u001b[0m \u001b[31m?\u001b[0m eta \u001b[36m-:--:--\u001b[0m\r\u001b[2K     \u001b[90m━━━━━━━━━━━━━━━━━━━━━━━━━━━━━━━━━━━━━━━━\u001b[0m \u001b[32m50.2/50.2 kB\u001b[0m \u001b[31m2.2 MB/s\u001b[0m eta \u001b[36m0:00:00\u001b[0m\n",
            "\u001b[?25hDownloading google_play_scraper-1.2.7-py3-none-any.whl (28 kB)\n",
            "Installing collected packages: google-play-scraper\n",
            "Successfully installed google-play-scraper-1.2.7\n"
          ]
        }
      ]
    },
    {
      "cell_type": "code",
      "execution_count": 3,
      "metadata": {
        "id": "QAs8F_ZFEMqZ"
      },
      "outputs": [],
      "source": [
        "# Import Library\n",
        "from google_play_scraper import reviews, Sort\n",
        "import pandas as pd"
      ]
    },
    {
      "cell_type": "code",
      "source": [
        "# Scraping ulasan Gojek\n",
        "result,_ = reviews(\n",
        "    'com.gojek.app',         # ID aplikasi Gojek di Play Store\n",
        "    lang='id',               # Bahasa Indonesia\n",
        "    country='id',            # Negara Indonesia\n",
        "    sort=Sort.MOST_RELEVANT, # Urutkan berdasarkan ulasan yang paling relevan\n",
        "    count=10500,             # Jumlah ulasan yang akan diambil\n",
        "    filter_score_with=None   #\n",
        ")"
      ],
      "metadata": {
        "id": "_JSQ84T8E01r"
      },
      "execution_count": 10,
      "outputs": []
    },
    {
      "cell_type": "code",
      "source": [
        "# Konversi ke DataFrame\n",
        "df = pd.DataFrame(result)"
      ],
      "metadata": {
        "id": "wYyc1mLKZLMq"
      },
      "execution_count": 11,
      "outputs": []
    },
    {
      "cell_type": "code",
      "source": [
        "# Simpan ke CSV\n",
        "df.to_csv(\"gojek_reviews.csv\", index=False)"
      ],
      "metadata": {
        "id": "hg5f9L97Zq1K"
      },
      "execution_count": 13,
      "outputs": []
    }
  ]
}